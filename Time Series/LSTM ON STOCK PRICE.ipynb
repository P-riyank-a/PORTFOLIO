{
 "cells": [
  {
   "cell_type": "markdown",
   "id": "d20420ca",
   "metadata": {},
   "source": [
    "## LSTM Model for international Stock price"
   ]
  },
  {
   "cell_type": "markdown",
   "id": "fc5a1902",
   "metadata": {},
   "source": [
    "### Load libraries"
   ]
  },
  {
   "cell_type": "code",
   "execution_count": 1,
   "id": "4a4351f5",
   "metadata": {},
   "outputs": [
    {
     "name": "stderr",
     "output_type": "stream",
     "text": [
      "C:\\New\\lib\\site-packages\\scipy\\__init__.py:146: UserWarning: A NumPy version >=1.16.5 and <1.23.0 is required for this version of SciPy (detected version 1.23.5\n",
      "  warnings.warn(f\"A NumPy version >={np_minversion} and <{np_maxversion}\"\n"
     ]
    }
   ],
   "source": [
    "import numpy as np\n",
    "import pandas as pd\n",
    "import matplotlib.pyplot as plt\n",
    "from pandas import read_csv\n",
    "import math\n",
    "import tensorflow as tf\n",
    "from tensorflow.keras.models import Sequential\n",
    "from tensorflow.keras.layers import Dense\n",
    "from tensorflow.keras.layers import LSTM\n",
    "from sklearn.preprocessing import MinMaxScaler\n",
    "from sklearn.metrics import mean_squared_error"
   ]
  },
  {
   "cell_type": "code",
   "execution_count": 2,
   "id": "b5738406",
   "metadata": {},
   "outputs": [],
   "source": [
    "import pandas_datareader as pdr"
   ]
  },
  {
   "cell_type": "code",
   "execution_count": 3,
   "id": "cbfd583b",
   "metadata": {},
   "outputs": [],
   "source": [
    "key = '************************'"
   ]
  },
  {
   "cell_type": "markdown",
   "id": "6ae92fab",
   "metadata": {},
   "source": [
    "### APPLE COMPANY"
   ]
  },
  {
   "cell_type": "code",
   "execution_count": 4,
   "id": "92adb7c8",
   "metadata": {},
   "outputs": [
    {
     "name": "stderr",
     "output_type": "stream",
     "text": [
      "C:\\Users\\This Pc\\AppData\\Local\\Temp\\ipykernel_11700\\1593133401.py:1: FutureWarning: In a future version of pandas all arguments of concat except for the argument 'objs' will be keyword-only.\n",
      "  df = pdr.get_data_tiingo('AAPL', api_key=key)\n"
     ]
    }
   ],
   "source": [
    "df = pdr.get_data_tiingo('AAPL', api_key=key)"
   ]
  },
  {
   "cell_type": "markdown",
   "id": "67b86f78",
   "metadata": {},
   "source": [
    "### Addidas Company"
   ]
  },
  {
   "cell_type": "code",
   "execution_count": 5,
   "id": "304c4c31",
   "metadata": {},
   "outputs": [
    {
     "name": "stderr",
     "output_type": "stream",
     "text": [
      "C:\\Users\\This Pc\\AppData\\Local\\Temp\\ipykernel_11700\\3819570851.py:1: FutureWarning: In a future version of pandas all arguments of concat except for the argument 'objs' will be keyword-only.\n",
      "  df2 = pdr.get_data_tiingo('ADDDF', api_key=key)\n"
     ]
    }
   ],
   "source": [
    "df2 = pdr.get_data_tiingo('ADDDF', api_key=key)"
   ]
  },
  {
   "cell_type": "code",
   "execution_count": 6,
   "id": "3ba20e4a",
   "metadata": {},
   "outputs": [],
   "source": [
    "df2.to_csv(\"Addidas.csv\")"
   ]
  },
  {
   "cell_type": "code",
   "execution_count": 7,
   "id": "d594f7b0",
   "metadata": {},
   "outputs": [
    {
     "data": {
      "text/plain": [
       "'C:\\\\Users\\\\This Pc\\\\Desktop\\\\csv\\\\TSFA\\\\CODES'"
      ]
     },
     "execution_count": 7,
     "metadata": {},
     "output_type": "execute_result"
    }
   ],
   "source": [
    "import os\n",
    "os.getcwd()"
   ]
  },
  {
   "cell_type": "code",
   "execution_count": 8,
   "id": "00b9bfac",
   "metadata": {},
   "outputs": [
    {
     "data": {
      "text/html": [
       "<div>\n",
       "<style scoped>\n",
       "    .dataframe tbody tr th:only-of-type {\n",
       "        vertical-align: middle;\n",
       "    }\n",
       "\n",
       "    .dataframe tbody tr th {\n",
       "        vertical-align: top;\n",
       "    }\n",
       "\n",
       "    .dataframe thead th {\n",
       "        text-align: right;\n",
       "    }\n",
       "</style>\n",
       "<table border=\"1\" class=\"dataframe\">\n",
       "  <thead>\n",
       "    <tr style=\"text-align: right;\">\n",
       "      <th></th>\n",
       "      <th>symbol</th>\n",
       "      <th>date</th>\n",
       "      <th>close</th>\n",
       "      <th>high</th>\n",
       "      <th>low</th>\n",
       "      <th>open</th>\n",
       "      <th>volume</th>\n",
       "      <th>adjClose</th>\n",
       "      <th>adjHigh</th>\n",
       "      <th>adjLow</th>\n",
       "      <th>adjOpen</th>\n",
       "      <th>adjVolume</th>\n",
       "      <th>divCash</th>\n",
       "      <th>splitFactor</th>\n",
       "    </tr>\n",
       "  </thead>\n",
       "  <tbody>\n",
       "    <tr>\n",
       "      <th>0</th>\n",
       "      <td>ADDDF</td>\n",
       "      <td>2018-06-15 00:00:00+00:00</td>\n",
       "      <td>229.70</td>\n",
       "      <td>229.70</td>\n",
       "      <td>229.70</td>\n",
       "      <td>229.70</td>\n",
       "      <td>3</td>\n",
       "      <td>214.406810</td>\n",
       "      <td>214.406810</td>\n",
       "      <td>214.406810</td>\n",
       "      <td>214.406810</td>\n",
       "      <td>3</td>\n",
       "      <td>0.0</td>\n",
       "      <td>1.0</td>\n",
       "    </tr>\n",
       "    <tr>\n",
       "      <th>1</th>\n",
       "      <td>ADDDF</td>\n",
       "      <td>2018-06-18 00:00:00+00:00</td>\n",
       "      <td>228.34</td>\n",
       "      <td>228.34</td>\n",
       "      <td>226.76</td>\n",
       "      <td>226.76</td>\n",
       "      <td>453</td>\n",
       "      <td>213.137357</td>\n",
       "      <td>213.137357</td>\n",
       "      <td>211.662552</td>\n",
       "      <td>211.662552</td>\n",
       "      <td>453</td>\n",
       "      <td>0.0</td>\n",
       "      <td>1.0</td>\n",
       "    </tr>\n",
       "    <tr>\n",
       "      <th>2</th>\n",
       "      <td>ADDDF</td>\n",
       "      <td>2018-06-19 00:00:00+00:00</td>\n",
       "      <td>218.32</td>\n",
       "      <td>221.81</td>\n",
       "      <td>218.32</td>\n",
       "      <td>220.00</td>\n",
       "      <td>231</td>\n",
       "      <td>203.784479</td>\n",
       "      <td>207.042118</td>\n",
       "      <td>203.784479</td>\n",
       "      <td>205.352626</td>\n",
       "      <td>231</td>\n",
       "      <td>0.0</td>\n",
       "      <td>1.0</td>\n",
       "    </tr>\n",
       "    <tr>\n",
       "      <th>3</th>\n",
       "      <td>ADDDF</td>\n",
       "      <td>2018-06-20 00:00:00+00:00</td>\n",
       "      <td>221.15</td>\n",
       "      <td>221.15</td>\n",
       "      <td>217.76</td>\n",
       "      <td>218.40</td>\n",
       "      <td>275</td>\n",
       "      <td>206.426060</td>\n",
       "      <td>206.426060</td>\n",
       "      <td>203.261763</td>\n",
       "      <td>203.859152</td>\n",
       "      <td>275</td>\n",
       "      <td>0.0</td>\n",
       "      <td>1.0</td>\n",
       "    </tr>\n",
       "    <tr>\n",
       "      <th>4</th>\n",
       "      <td>ADDDF</td>\n",
       "      <td>2018-06-21 00:00:00+00:00</td>\n",
       "      <td>221.15</td>\n",
       "      <td>221.15</td>\n",
       "      <td>221.15</td>\n",
       "      <td>221.15</td>\n",
       "      <td>12</td>\n",
       "      <td>206.426060</td>\n",
       "      <td>206.426060</td>\n",
       "      <td>206.426060</td>\n",
       "      <td>206.426060</td>\n",
       "      <td>12</td>\n",
       "      <td>0.0</td>\n",
       "      <td>1.0</td>\n",
       "    </tr>\n",
       "  </tbody>\n",
       "</table>\n",
       "</div>"
      ],
      "text/plain": [
       "  symbol                       date   close    high     low    open  volume  \\\n",
       "0  ADDDF  2018-06-15 00:00:00+00:00  229.70  229.70  229.70  229.70       3   \n",
       "1  ADDDF  2018-06-18 00:00:00+00:00  228.34  228.34  226.76  226.76     453   \n",
       "2  ADDDF  2018-06-19 00:00:00+00:00  218.32  221.81  218.32  220.00     231   \n",
       "3  ADDDF  2018-06-20 00:00:00+00:00  221.15  221.15  217.76  218.40     275   \n",
       "4  ADDDF  2018-06-21 00:00:00+00:00  221.15  221.15  221.15  221.15      12   \n",
       "\n",
       "     adjClose     adjHigh      adjLow     adjOpen  adjVolume  divCash  \\\n",
       "0  214.406810  214.406810  214.406810  214.406810          3      0.0   \n",
       "1  213.137357  213.137357  211.662552  211.662552        453      0.0   \n",
       "2  203.784479  207.042118  203.784479  205.352626        231      0.0   \n",
       "3  206.426060  206.426060  203.261763  203.859152        275      0.0   \n",
       "4  206.426060  206.426060  206.426060  206.426060         12      0.0   \n",
       "\n",
       "   splitFactor  \n",
       "0          1.0  \n",
       "1          1.0  \n",
       "2          1.0  \n",
       "3          1.0  \n",
       "4          1.0  "
      ]
     },
     "execution_count": 8,
     "metadata": {},
     "output_type": "execute_result"
    }
   ],
   "source": [
    "dataset1 = pd.read_csv('Addidas.csv')\n",
    "dataset1.head()"
   ]
  },
  {
   "cell_type": "code",
   "execution_count": 9,
   "id": "f0897fe2",
   "metadata": {},
   "outputs": [],
   "source": [
    "dataset1 = dataset1.reset_index()['close']"
   ]
  },
  {
   "cell_type": "code",
   "execution_count": 10,
   "id": "5526ae55",
   "metadata": {},
   "outputs": [
    {
     "data": {
      "text/plain": [
       "0       229.7000\n",
       "1       228.3400\n",
       "2       218.3200\n",
       "3       221.1500\n",
       "4       221.1500\n",
       "          ...   \n",
       "1249    169.7500\n",
       "1250    173.1875\n",
       "1251    173.4375\n",
       "1252    182.0000\n",
       "1253    186.5000\n",
       "Name: close, Length: 1254, dtype: float64"
      ]
     },
     "execution_count": 10,
     "metadata": {},
     "output_type": "execute_result"
    }
   ],
   "source": [
    "dataset1"
   ]
  },
  {
   "cell_type": "code",
   "execution_count": 11,
   "id": "8f22f44b",
   "metadata": {},
   "outputs": [
    {
     "data": {
      "image/png": "[encoded data removed]",
      "text/plain": [
       "<Figure size 1080x504 with 1 Axes>"
      ]
     },
     "metadata": {
      "needs_background": "light"
     },
     "output_type": "display_data"
    }
   ],
   "source": [
    "plt.figure(figsize=(15,7))\n",
    "plt.plot(dataset1)\n",
    "plt.show()"
   ]
  },
  {
   "cell_type": "markdown",
   "id": "edeb2eb7",
   "metadata": {},
   "source": [
    "### Google Company"
   ]
  },
  {
   "cell_type": "code",
   "execution_count": 12,
   "id": "ba52698b",
   "metadata": {},
   "outputs": [
    {
     "name": "stderr",
     "output_type": "stream",
     "text": [
      "C:\\Users\\This Pc\\AppData\\Local\\Temp\\ipykernel_11700\\1379539222.py:1: FutureWarning: In a future version of pandas all arguments of concat except for the argument 'objs' will be keyword-only.\n",
      "  df1 = pdr.get_data_tiingo('GOOGL', api_key=key)\n"
     ]
    }
   ],
   "source": [
    "df1 = pdr.get_data_tiingo('GOOGL', api_key=key)"
   ]
  },
  {
   "cell_type": "code",
   "execution_count": 13,
   "id": "41d5f738",
   "metadata": {},
   "outputs": [],
   "source": [
    "df.to_csv(\"apple_company.csv\")"
   ]
  },
  {
   "cell_type": "code",
   "execution_count": 14,
   "id": "cea80b24",
   "metadata": {},
   "outputs": [],
   "source": [
    "df1.to_csv('google.csv')"
   ]
  },
  {
   "cell_type": "code",
   "execution_count": 15,
   "id": "5dbdf795",
   "metadata": {},
   "outputs": [
    {
     "data": {
      "text/plain": [
       "'C:\\\\Users\\\\This Pc\\\\Desktop\\\\csv\\\\TSFA\\\\CODES'"
      ]
     },
     "execution_count": 15,
     "metadata": {},
     "output_type": "execute_result"
    }
   ],
   "source": [
    "import os\n",
    "os.getcwd()"
   ]
  },
  {
   "cell_type": "code",
   "execution_count": 16,
   "id": "e8f3e8e8",
   "metadata": {},
   "outputs": [],
   "source": [
    "# fix random seed for reproducibility\n",
    "tf.random.set_seed(7)"
   ]
  },
  {
   "cell_type": "markdown",
   "id": "e533b11d",
   "metadata": {},
   "source": [
    "### load the dataset"
   ]
  },
  {
   "cell_type": "code",
   "execution_count": 17,
   "id": "ebe6bfb0",
   "metadata": {},
   "outputs": [],
   "source": [
    "dataframe = read_csv(r\"C:\\Users\\This Pc\\Desktop\\csv\\TSFA\\CODES\\apple_company.csv\", usecols=[2], engine='python')"
   ]
  },
  {
   "cell_type": "code",
   "execution_count": 18,
   "id": "c3664f34",
   "metadata": {},
   "outputs": [],
   "source": [
    "dataset = dataframe.values\n",
    "dataset = dataset.astype('float32')"
   ]
  },
  {
   "cell_type": "markdown",
   "id": "d2a8c3a0",
   "metadata": {},
   "source": [
    "### plot to show values"
   ]
  },
  {
   "cell_type": "code",
   "execution_count": 19,
   "id": "93258b50",
   "metadata": {},
   "outputs": [
    {
     "data": {
      "image/png": "[encoded data removed]",
      "text/plain": [
       "<Figure size 1080x504 with 1 Axes>"
      ]
     },
     "metadata": {
      "needs_background": "light"
     },
     "output_type": "display_data"
    }
   ],
   "source": [
    "plt.figure(figsize=(15,7))\n",
    "plt.plot(dataset,linewidth = '4.5')\n",
    "plt.show()"
   ]
  },
  {
   "cell_type": "markdown",
   "id": "6888d1ab",
   "metadata": {},
   "source": [
    "### normalize the dataset"
   ]
  },
  {
   "cell_type": "code",
   "execution_count": 20,
   "id": "3770e410",
   "metadata": {},
   "outputs": [],
   "source": [
    "scaler = MinMaxScaler(feature_range=(0, 1))\n",
    "dataset = scaler.fit_transform(dataset)"
   ]
  },
  {
   "cell_type": "code",
   "execution_count": 21,
   "id": "79b02335",
   "metadata": {},
   "outputs": [
    {
     "data": {
      "text/plain": [
       "array([[0.20538509],\n",
       "       [0.20513466],\n",
       "       [0.19749531],\n",
       "       ...,\n",
       "       [0.18564811],\n",
       "       [0.19273636],\n",
       "       [0.19153413]], dtype=float32)"
      ]
     },
     "execution_count": 21,
     "metadata": {},
     "output_type": "execute_result"
    }
   ],
   "source": [
    "dataset"
   ]
  },
  {
   "cell_type": "markdown",
   "id": "3df2ff6c",
   "metadata": {},
   "source": [
    "### split into train and test sets"
   ]
  },
  {
   "cell_type": "code",
   "execution_count": 22,
   "id": "f4a132a3",
   "metadata": {},
   "outputs": [],
   "source": [
    "train_size = int(len(dataset) * 0.67)\n",
    "test_size = len(dataset) - train_size\n",
    "train_data, test_data = dataset[0:train_size,:], dataset[train_size:len(dataset),:]"
   ]
  },
  {
   "cell_type": "code",
   "execution_count": 23,
   "id": "8d36cdfd",
   "metadata": {},
   "outputs": [
    {
     "data": {
      "text/plain": [
       "842"
      ]
     },
     "execution_count": 23,
     "metadata": {},
     "output_type": "execute_result"
    }
   ],
   "source": [
    "train_size"
   ]
  },
  {
   "cell_type": "code",
   "execution_count": 24,
   "id": "80399633",
   "metadata": {},
   "outputs": [
    {
     "data": {
      "text/plain": [
       "415"
      ]
     },
     "execution_count": 24,
     "metadata": {},
     "output_type": "execute_result"
    }
   ],
   "source": [
    "test_size"
   ]
  },
  {
   "cell_type": "markdown",
   "id": "386f5d29",
   "metadata": {},
   "source": [
    "### convert an array of values into a dataset matrix"
   ]
  },
  {
   "cell_type": "code",
   "execution_count": 25,
   "id": "88c814f8",
   "metadata": {},
   "outputs": [],
   "source": [
    "def create_dataset(dataset, time_step=1):\n",
    " dataX, dataY = [], []\n",
    " for i in range(len(dataset)-time_step-1):\n",
    "   a = dataset[i:(i+time_step), 0]\n",
    "   dataX.append(a)\n",
    "   dataY.append(dataset[i + time_step, 0])\n",
    " return np.array(dataX), np.array(dataY)"
   ]
  },
  {
   "cell_type": "markdown",
   "id": "f3f08fa6",
   "metadata": {},
   "source": [
    "### reshape into X=t and Y=t+1"
   ]
  },
  {
   "cell_type": "code",
   "execution_count": 26,
   "id": "4768b234",
   "metadata": {},
   "outputs": [],
   "source": [
    "time_step = 1\n",
    "x_train, y_train = create_dataset(train_data, time_step)\n",
    "x_test, y_test = create_dataset(test_data, time_step)"
   ]
  },
  {
   "cell_type": "code",
   "execution_count": 27,
   "id": "86759457",
   "metadata": {},
   "outputs": [
    {
     "data": {
      "text/plain": [
       "(840, 1)"
      ]
     },
     "execution_count": 27,
     "metadata": {},
     "output_type": "execute_result"
    }
   ],
   "source": [
    "x_train.shape"
   ]
  },
  {
   "cell_type": "code",
   "execution_count": 28,
   "id": "92675a04",
   "metadata": {},
   "outputs": [
    {
     "data": {
      "text/plain": [
       "(413, 1)"
      ]
     },
     "execution_count": 28,
     "metadata": {},
     "output_type": "execute_result"
    }
   ],
   "source": [
    "x_test.shape"
   ]
  },
  {
   "cell_type": "markdown",
   "id": "1460fb04",
   "metadata": {},
   "source": [
    "### reshape input to be [samples,features,time steps]"
   ]
  },
  {
   "cell_type": "code",
   "execution_count": 29,
   "id": "796e941e",
   "metadata": {},
   "outputs": [],
   "source": [
    "x_train = np.reshape(x_train, (x_train.shape[0], x_train.shape[1],1))\n",
    "x_test = np.reshape(x_test, (x_test.shape[0], x_test.shape[1],1))"
   ]
  },
  {
   "cell_type": "code",
   "execution_count": 30,
   "id": "fe54df64",
   "metadata": {},
   "outputs": [
    {
     "data": {
      "text/plain": [
       "(840, 1, 1)"
      ]
     },
     "execution_count": 30,
     "metadata": {},
     "output_type": "execute_result"
    }
   ],
   "source": [
    "x_train.shape"
   ]
  },
  {
   "cell_type": "code",
   "execution_count": 31,
   "id": "72d21df6",
   "metadata": {},
   "outputs": [
    {
     "data": {
      "text/plain": [
       "(413, 1, 1)"
      ]
     },
     "execution_count": 31,
     "metadata": {},
     "output_type": "execute_result"
    }
   ],
   "source": [
    "x_test.shape"
   ]
  },
  {
   "cell_type": "markdown",
   "id": "6add0ba3",
   "metadata": {},
   "source": [
    "### create and fit the LSTM model"
   ]
  },
  {
   "cell_type": "code",
   "execution_count": 32,
   "id": "d4dcbb12",
   "metadata": {},
   "outputs": [],
   "source": [
    "model = Sequential()\n",
    "model.add(LSTM(4, input_shape=(1, time_step)))\n",
    "model.add(Dense(1))\n",
    "model.compile(loss='mean_squared_error', optimizer='adam')"
   ]
  },
  {
   "cell_type": "code",
   "execution_count": 33,
   "id": "390214d2",
   "metadata": {},
   "outputs": [
    {
     "name": "stdout",
     "output_type": "stream",
     "text": [
      "Epoch 1/50\n",
      "840/840 [==============================] - 6s 3ms/step - loss: 0.0516 - val_loss: 0.0146\n",
      "Epoch 2/50\n",
      "840/840 [==============================] - 2s 3ms/step - loss: 0.0238 - val_loss: 0.0072\n",
      "Epoch 3/50\n",
      "840/840 [==============================] - 2s 3ms/step - loss: 0.0073 - val_loss: 5.9373e-04\n",
      "Epoch 4/50\n",
      "840/840 [==============================] - 2s 3ms/step - loss: 0.0015 - val_loss: 5.9910e-05\n",
      "Epoch 5/50\n",
      "840/840 [==============================] - 2s 3ms/step - loss: 0.0012 - val_loss: 9.6471e-05\n",
      "Epoch 6/50\n",
      "840/840 [==============================] - 2s 3ms/step - loss: 0.0012 - val_loss: 5.9338e-05\n",
      "Epoch 7/50\n",
      "840/840 [==============================] - 2s 3ms/step - loss: 0.0012 - val_loss: 2.5880e-04\n",
      "Epoch 8/50\n",
      "840/840 [==============================] - 2s 3ms/step - loss: 0.0012 - val_loss: 7.2928e-05\n",
      "Epoch 9/50\n",
      "840/840 [==============================] - 2s 3ms/step - loss: 0.0012 - val_loss: 6.7656e-05\n",
      "Epoch 10/50\n",
      "840/840 [==============================] - 2s 3ms/step - loss: 0.0012 - val_loss: 8.4244e-05\n",
      "Epoch 11/50\n",
      "840/840 [==============================] - 3s 3ms/step - loss: 0.0012 - val_loss: 5.7928e-05\n",
      "Epoch 12/50\n",
      "840/840 [==============================] - 2s 3ms/step - loss: 0.0012 - val_loss: 6.3645e-05\n",
      "Epoch 13/50\n",
      "840/840 [==============================] - 2s 3ms/step - loss: 0.0012 - val_loss: 6.2095e-05\n",
      "Epoch 14/50\n",
      "840/840 [==============================] - 2s 3ms/step - loss: 0.0012 - val_loss: 7.8781e-05\n",
      "Epoch 15/50\n",
      "840/840 [==============================] - 2s 3ms/step - loss: 0.0012 - val_loss: 6.4170e-05\n",
      "Epoch 16/50\n",
      "840/840 [==============================] - 3s 3ms/step - loss: 0.0012 - val_loss: 6.0609e-05\n",
      "Epoch 17/50\n",
      "840/840 [==============================] - 2s 3ms/step - loss: 0.0012 - val_loss: 9.2161e-04\n",
      "Epoch 18/50\n",
      "840/840 [==============================] - 3s 3ms/step - loss: 0.0012 - val_loss: 7.4324e-05\n",
      "Epoch 19/50\n",
      "840/840 [==============================] - 2s 3ms/step - loss: 0.0012 - val_loss: 5.8845e-05\n",
      "Epoch 20/50\n",
      "840/840 [==============================] - 2s 3ms/step - loss: 0.0012 - val_loss: 6.9119e-05\n",
      "Epoch 21/50\n",
      "840/840 [==============================] - 3s 3ms/step - loss: 0.0012 - val_loss: 2.1868e-04\n",
      "Epoch 22/50\n",
      "840/840 [==============================] - 2s 3ms/step - loss: 0.0012 - val_loss: 6.5654e-05\n",
      "Epoch 23/50\n",
      "840/840 [==============================] - 2s 3ms/step - loss: 0.0012 - val_loss: 1.0308e-04\n",
      "Epoch 24/50\n",
      "840/840 [==============================] - 2s 3ms/step - loss: 0.0012 - val_loss: 8.7247e-05\n",
      "Epoch 25/50\n",
      "840/840 [==============================] - 2s 3ms/step - loss: 0.0012 - val_loss: 6.7347e-05\n",
      "Epoch 26/50\n",
      "840/840 [==============================] - 2s 3ms/step - loss: 0.0012 - val_loss: 6.4940e-05\n",
      "Epoch 27/50\n",
      "840/840 [==============================] - 2s 3ms/step - loss: 0.0012 - val_loss: 5.9522e-05\n",
      "Epoch 28/50\n",
      "840/840 [==============================] - 2s 3ms/step - loss: 0.0012 - val_loss: 6.3357e-05\n",
      "Epoch 29/50\n",
      "840/840 [==============================] - 3s 3ms/step - loss: 0.0012 - val_loss: 8.7286e-05\n",
      "Epoch 30/50\n",
      "840/840 [==============================] - 2s 3ms/step - loss: 0.0012 - val_loss: 6.3615e-05\n",
      "Epoch 31/50\n",
      "840/840 [==============================] - 2s 3ms/step - loss: 0.0012 - val_loss: 6.5664e-05\n",
      "Epoch 32/50\n",
      "840/840 [==============================] - 2s 3ms/step - loss: 0.0012 - val_loss: 9.5398e-05\n",
      "Epoch 33/50\n",
      "840/840 [==============================] - 2s 3ms/step - loss: 0.0012 - val_loss: 7.7494e-05\n",
      "Epoch 34/50\n",
      "840/840 [==============================] - 2s 3ms/step - loss: 0.0012 - val_loss: 5.9123e-05\n",
      "Epoch 35/50\n",
      "840/840 [==============================] - 2s 3ms/step - loss: 0.0012 - val_loss: 5.8307e-05\n",
      "Epoch 36/50\n",
      "840/840 [==============================] - 2s 3ms/step - loss: 0.0012 - val_loss: 6.6274e-05\n",
      "Epoch 37/50\n",
      "840/840 [==============================] - 2s 3ms/step - loss: 0.0012 - val_loss: 7.4417e-04\n",
      "Epoch 38/50\n",
      "840/840 [==============================] - 2s 3ms/step - loss: 0.0012 - val_loss: 1.0362e-04\n",
      "Epoch 39/50\n",
      "840/840 [==============================] - 2s 3ms/step - loss: 0.0012 - val_loss: 8.6695e-05\n",
      "Epoch 40/50\n",
      "840/840 [==============================] - 2s 3ms/step - loss: 0.0012 - val_loss: 5.9838e-05\n",
      "Epoch 41/50\n",
      "840/840 [==============================] - 2s 3ms/step - loss: 0.0012 - val_loss: 6.6812e-05\n",
      "Epoch 42/50\n",
      "840/840 [==============================] - 2s 3ms/step - loss: 0.0012 - val_loss: 6.2509e-05\n",
      "Epoch 43/50\n",
      "840/840 [==============================] - 2s 3ms/step - loss: 0.0012 - val_loss: 5.9133e-05\n",
      "Epoch 44/50\n",
      "840/840 [==============================] - 3s 3ms/step - loss: 0.0012 - val_loss: 6.7578e-05\n",
      "Epoch 45/50\n",
      "840/840 [==============================] - 2s 3ms/step - loss: 0.0012 - val_loss: 8.6310e-05\n",
      "Epoch 46/50\n",
      "840/840 [==============================] - 2s 3ms/step - loss: 0.0012 - val_loss: 8.4584e-05\n",
      "Epoch 47/50\n",
      "840/840 [==============================] - 2s 3ms/step - loss: 0.0012 - val_loss: 1.7113e-04\n",
      "Epoch 48/50\n",
      "840/840 [==============================] - 2s 3ms/step - loss: 0.0012 - val_loss: 5.9003e-05\n",
      "Epoch 49/50\n",
      "840/840 [==============================] - 2s 3ms/step - loss: 0.0012 - val_loss: 5.7844e-05\n",
      "Epoch 50/50\n",
      "840/840 [==============================] - 2s 3ms/step - loss: 0.0012 - val_loss: 5.9991e-05\n"
     ]
    },
    {
     "data": {
      "text/plain": [
       "<keras.callbacks.History at 0x26af67b5fa0>"
      ]
     },
     "execution_count": 33,
     "metadata": {},
     "output_type": "execute_result"
    }
   ],
   "source": [
    "model.fit(x_train, y_train, epochs=50,validation_data=(x_test, y_test), batch_size=1, verbose=1)"
   ]
  },
  {
   "cell_type": "markdown",
   "id": "6023db67",
   "metadata": {},
   "source": [
    "### make predictions"
   ]
  },
  {
   "cell_type": "code",
   "execution_count": 34,
   "id": "4960d763",
   "metadata": {},
   "outputs": [
    {
     "name": "stdout",
     "output_type": "stream",
     "text": [
      "27/27 [==============================] - 0s 2ms/step\n",
      "13/13 [==============================] - 0s 2ms/step\n"
     ]
    }
   ],
   "source": [
    "train_Predict = model.predict(x_train)\n",
    "test_Predict = model.predict(x_test)"
   ]
  },
  {
   "cell_type": "markdown",
   "id": "570ea135",
   "metadata": {},
   "source": [
    "### invert predictions"
   ]
  },
  {
   "cell_type": "code",
   "execution_count": 35,
   "id": "1262ba2f",
   "metadata": {},
   "outputs": [],
   "source": [
    "train_Predict = scaler.inverse_transform(train_Predict)\n",
    "y_train = scaler.inverse_transform([y_train])\n",
    "test_Predict = scaler.inverse_transform(test_Predict)\n",
    "y_test = scaler.inverse_transform([y_test])"
   ]
  },
  {
   "cell_type": "markdown",
   "id": "6738f2a7",
   "metadata": {},
   "source": [
    "### calculate root mean squared error"
   ]
  },
  {
   "cell_type": "code",
   "execution_count": 36,
   "id": "25d048a2",
   "metadata": {},
   "outputs": [
    {
     "name": "stdout",
     "output_type": "stream",
     "text": [
      "Train Score: 13.34 RMSE\n",
      "Test Score: 3.09 RMSE\n"
     ]
    }
   ],
   "source": [
    "train_Score = np.sqrt(mean_squared_error(y_train[0], train_Predict[:,0]))\n",
    "print('Train Score: %.2f RMSE' % (train_Score))\n",
    "test_Score = np.sqrt(mean_squared_error(y_test[0], test_Predict[:,0]))\n",
    "print('Test Score: %.2f RMSE' % (test_Score))"
   ]
  },
  {
   "cell_type": "markdown",
   "id": "6b0ba15b",
   "metadata": {},
   "source": [
    "### shift train predictions for plotting"
   ]
  },
  {
   "cell_type": "code",
   "execution_count": 37,
   "id": "32bc3588",
   "metadata": {},
   "outputs": [],
   "source": [
    "train_Predict_Plot = np.empty_like(dataset)\n",
    "train_Predict_Plot[:, :] = np.nan\n",
    "train_Predict_Plot[time_step:len(train_Predict)+time_step, :] = train_Predict"
   ]
  },
  {
   "cell_type": "markdown",
   "id": "76e78a29",
   "metadata": {},
   "source": [
    "### shift test predictions for plotting"
   ]
  },
  {
   "cell_type": "code",
   "execution_count": 38,
   "id": "5a1fda34",
   "metadata": {},
   "outputs": [],
   "source": [
    "test_Predict_Plot = np.empty_like(dataset)\n",
    "test_Predict_Plot[:, :] = np.nan\n",
    "test_Predict_Plot[len(train_Predict)+(time_step*2)+1:len(dataset)-1, :] = test_Predict"
   ]
  },
  {
   "cell_type": "markdown",
   "id": "26716faf",
   "metadata": {},
   "source": [
    "### plot baseline and predictions"
   ]
  },
  {
   "cell_type": "code",
   "execution_count": 39,
   "id": "15401c9e",
   "metadata": {},
   "outputs": [
    {
     "data": {
      "image/png": "[encoded data removed]",
      "text/plain": [
       "<Figure size 1080x504 with 1 Axes>"
      ]
     },
     "metadata": {
      "needs_background": "light"
     },
     "output_type": "display_data"
    }
   ],
   "source": [
    "plt.figure(figsize=(15,7))\n",
    "plt.plot(scaler.inverse_transform(dataset),linewidth = '10.5')\n",
    "plt.plot(train_Predict_Plot,linewidth = '5.5')\n",
    "plt.plot(test_Predict_Plot,linewidth = '5.5')\n",
    "plt.show()"
   ]
  },
  {
   "cell_type": "code",
   "execution_count": null,
   "id": "79c3ce23",
   "metadata": {},
   "outputs": [],
   "source": []
  },
  {
   "cell_type": "code",
   "execution_count": null,
   "id": "9f5e11b1",
   "metadata": {},
   "outputs": [],
   "source": []
  },
  {
   "cell_type": "code",
   "execution_count": null,
   "id": "19875633",
   "metadata": {},
   "outputs": [],
   "source": []
  },
  {
   "cell_type": "code",
   "execution_count": null,
   "id": "4d1473aa",
   "metadata": {},
   "outputs": [],
   "source": []
  }
 ],
 "metadata": {
  "kernelspec": {
   "display_name": "Python 3 (ipykernel)",
   "language": "python",
   "name": "python3"
  },
  "language_info": {
   "codemirror_mode": {
    "name": "ipython",
    "version": 3
   },
   "file_extension": ".py",
   "mimetype": "text/x-python",
   "name": "python",
   "nbconvert_exporter": "python",
   "pygments_lexer": "ipython3",
   "version": "3.9.12"
  }
 },
 "nbformat": 4,
 "nbformat_minor": 5
}
